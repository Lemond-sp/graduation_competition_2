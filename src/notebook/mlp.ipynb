{
  "cells": [
    {
      "cell_type": "code",
      "execution_count": null,
      "metadata": {
        "colab": {
          "base_uri": "https://localhost:8080/"
        },
        "id": "aqC4T9brVm89",
        "outputId": "31b323c7-2409-485d-bb8b-4ceb7f0f2482"
      },
      "outputs": [
        {
          "name": "stdout",
          "output_type": "stream",
          "text": [
            "Drive already mounted at /content/drive; to attempt to forcibly remount, call drive.mount(\"/content/drive\", force_remount=True).\n",
            "/content/drive/MyDrive/grad_comp\n"
          ]
        }
      ],
      "source": [
        "import numpy as np\n",
        "import pandas as pd\n",
        "import os\n",
        "os.environ['CUDA_LAUNCH_BLOCKING'] = \"1\"\n",
        "#ファイル\n",
        "from google.colab import drive\n",
        "drive.mount('/content/drive')\n",
        "%cd /content/drive/MyDrive/grad_comp\n",
        "\n",
        "FEATURE_NUM = 5000\n",
        "BATCH_SIZE = 128\n",
        "EPOCH = 50"
      ]
    },
    {
      "cell_type": "code",
      "execution_count": null,
      "metadata": {
        "colab": {
          "base_uri": "https://localhost:8080/"
        },
        "id": "yPL2lbNmw-E1",
        "outputId": "81c9d629-11e5-4052-927d-60d98e06def2"
      },
      "outputs": [
        {
          "name": "stdout",
          "output_type": "stream",
          "text": [
            "[0. 1. 2. 3. 4.]\n",
            "[3543 5593 9227 7760 3877]\n"
          ]
        }
      ],
      "source": [
        "# preprocess path\n",
        "prepro = 'sudachi-neo-small/A'\n",
        "\n",
        "# setup data\n",
        "\n",
        "f = open('preprocess/' + prepro + '/text.prep_train.txt', 'r')\n",
        "train_data = f.read()\n",
        "train_data = train_data.split('\\n')\n",
        "\n",
        "del train_data[30000]\n",
        "for i in range(len(train_data)):\n",
        "  train_data[i] = train_data[i].split(' ')\n",
        "\n",
        "\n",
        "f = open('preprocess/' + prepro + '/text.prep_test.txt', 'r')\n",
        "test_data = f.read()\n",
        "test_data = test_data.split('\\n')\n",
        "del test_data[2500]\n",
        "for i in range(len(test_data)):\n",
        "  test_data[i] = test_data[i].split(' ')\n",
        "\n",
        "f = open('preprocess/' + prepro + '/text.prep_dev.txt', 'r')\n",
        "dev_data = f.read()\n",
        "dev_data = dev_data.split('\\n')\n",
        "del dev_data[2500]\n",
        "for i in range(len(dev_data)):\n",
        "  dev_data[i] = dev_data[i].split(' ')\n",
        "\n",
        "# label\n",
        "y_train = np.loadtxt('/content/drive/MyDrive/grad_comp/data/label.train.txt')\n",
        "y_dev = np.loadtxt('/content/drive/MyDrive/grad_comp/data/label.dev.txt')\n",
        "y_test = np.loadtxt('/content/drive/MyDrive/grad_comp/data/label.dummy.txt') # ダミーデータ\n",
        "\n",
        "y_train += 2\n",
        "y_dev += 2\n",
        "y_test += 2\n",
        "\n",
        "u, counts = np.unique(y_train, return_counts=True)\n",
        "print(u)\n",
        "print(counts)"
      ]
    },
    {
      "cell_type": "code",
      "execution_count": null,
      "metadata": {
        "id": "Mnv_5uw7jss5"
      },
      "outputs": [],
      "source": [
        "# 検証\n",
        "\n",
        "from sklearn.feature_extraction.text import TfidfVectorizer\n",
        "#vectorizer = TfidfVectorizer(max_features=FEATURE_NUM,norm='l1',analyzer='char',smooth_idf=True)\n",
        "#vectorizer = TfidfVectorizer(max_features=FEATURE_NUM)\n",
        "vectorizer = TfidfVectorizer(analyzer=lambda x: x)\n",
        "\n",
        "X_train = vectorizer.fit_transform(train_data)\n",
        "X_dev = vectorizer.transform(dev_data)\n",
        "X_test = vectorizer.transform(test_data)\n",
        "\n",
        "X_train = X_train.toarray()\n",
        "X_dev = X_dev.toarray()\n",
        "X_test = X_test.toarray()"
      ]
    },
    {
      "cell_type": "code",
      "execution_count": null,
      "metadata": {
        "colab": {
          "base_uri": "https://localhost:8080/"
        },
        "id": "HPc2jZJJqmL0",
        "outputId": "e08b8188-e818-4841-d459-fa11c512608a"
      },
      "outputs": [
        {
          "data": {
            "text/plain": [
              "(30000, 24830)"
            ]
          },
          "execution_count": 37,
          "metadata": {},
          "output_type": "execute_result"
        }
      ],
      "source": [
        "X_train.shape"
      ]
    },
    {
      "cell_type": "markdown",
      "metadata": {
        "id": "fSN9norVksOX"
      },
      "source": [
        "## MLP(多層パーセプトロン)への適応"
      ]
    },
    {
      "cell_type": "code",
      "execution_count": null,
      "metadata": {
        "colab": {
          "base_uri": "https://localhost:8080/"
        },
        "id": "cy5dmvqTkELn",
        "outputId": "8d677e9a-efb2-4e32-f39a-95bc425cd1da"
      },
      "outputs": [
        {
          "name": "stdout",
          "output_type": "stream",
          "text": [
            "変換前： <class 'numpy.ndarray'> <class 'numpy.ndarray'>\n",
            "変換後： <class 'torch.Tensor'> <class 'torch.Tensor'>\n"
          ]
        }
      ],
      "source": [
        "# ====================\n",
        "# データ形式の変換 (ndarray --> Tensor)\n",
        "# ====================\n",
        "\n",
        "import torch\n",
        "\n",
        "print(\"変換前：\", type(X_train), type(y_train))\n",
        "\n",
        "x_train = torch.tensor(X_train, dtype=torch.float32)\n",
        "x_dev = torch.tensor(X_dev, dtype=torch.float32)\n",
        "x_test = torch.tensor(X_test, dtype=torch.float32)\n",
        "\n",
        "#targets = targets.type(torch.LongTensor)\n",
        "y_train = torch.tensor(y_train, dtype=torch.int64)\n",
        "y_dev = torch.tensor(y_dev, dtype=torch.int64)\n",
        "y_test = torch.tensor(y_test, dtype=torch.int64)\n",
        "\n",
        "print(\"変換後：\", type(x_train), type(y_train))"
      ]
    },
    {
      "cell_type": "code",
      "execution_count": null,
      "metadata": {
        "id": "sNuHR9ArlX58"
      },
      "outputs": [],
      "source": [
        "from torch.utils.data import TensorDataset\n",
        "from torch.utils.data import DataLoader\n",
        "\n",
        "train = TensorDataset(x_train, y_train)\n",
        "val = TensorDataset(x_dev, y_dev)\n",
        "test = TensorDataset(x_test, y_test)\n",
        "batch_size = BATCH_SIZE\n",
        "\n",
        "train_loader = DataLoader(train, batch_size, shuffle=True)\n",
        "val_loader = DataLoader(val, batch_size, shuffle=False)\n",
        "test_loader = DataLoader(test, 1, shuffle=False)"
      ]
    },
    {
      "cell_type": "code",
      "execution_count": null,
      "metadata": {
        "id": "TM78UFMunH0V"
      },
      "outputs": [],
      "source": [
        "# ====================\n",
        "# ネットワークを定義\n",
        "# ====================\n",
        "\n",
        "import torch.nn as nn\n",
        "import torch.nn.functional as F\n",
        "\n",
        "class Net(nn.Module):\n",
        "\n",
        "    # モデルの構造\n",
        "    def __init__(self):\n",
        "        super().__init__()\n",
        "        self.fc1 = nn.Linear(24830,2000) # 1000\n",
        "        self.fc2 = nn.Linear(2000,500)\n",
        "        self.fc3 = nn.Linear(500,100)\n",
        "        self.fc4 = nn.Linear(100,10)\n",
        "        self.fc5 = nn.Linear(10,5)\n",
        "        # 回帰問題にする場合\n",
        "        #self.fc5 = nn.Linear(10,1)\n",
        "    # 順伝播\n",
        "    def forward(self, x):\n",
        "        h1 = F.relu(self.fc1(x))\n",
        "        h2 = F.relu(self.fc2(h1))\n",
        "        h3 = F.relu(self.fc3(h2))\n",
        "        h4 = F.relu(self.fc4(h3))\n",
        "        y = self.fc5(h4)\n",
        "        return y\n",
        "\n",
        "# ネットワークのインスタンスを作成\n",
        "net = Net()\n",
        "\n",
        "device = torch.device(\"cuda:0\" if torch.cuda.is_available() else \"cpu\")\n",
        "net = net.to(device)\n",
        "device\n",
        "\n",
        "criterion = nn.CrossEntropyLoss()\n",
        "optimizer = torch.optim.SGD(net.parameters(),lr=0.1)"
      ]
    },
    {
      "cell_type": "code",
      "execution_count": null,
      "metadata": {
        "colab": {
          "base_uri": "https://localhost:8080/"
        },
        "id": "wg5MzRSqnXgZ",
        "outputId": "3a9ac54a-caa1-46fb-c098-49b942adc2f3"
      },
      "outputs": [],
      "source": [
        "# ====================\n",
        "# 学習ループ\n",
        "# ====================\n",
        "\n",
        "max_epoch = 100\n",
        "min_val_loss = 100\n",
        "eps = 1e-6\n",
        "eps = torch.tensor(eps)\n",
        "for epoch in range(max_epoch):\n",
        "\n",
        "    # ミニバッチ学習\n",
        "    for batch in train_loader:\n",
        "\n",
        "        # バッチサイズ分のサンプルを抽出\n",
        "        x, t = batch  # 黄色の部分\n",
        "        # データをGPUへ転送\n",
        "        x = x.to(device)\n",
        "        t = t.to(device)\n",
        "\n",
        "        # 勾配を初期化\n",
        "        optimizer.zero_grad()\n",
        "        # 順伝播\n",
        "        y = net(x)  # 赤色の部分\n",
        "        loss = criterion(y, t)  # 緑色の部分\n",
        "        # 誤差逆伝播\n",
        "        loss.backward()  # 青色の部分\n",
        "        optimizer.step()  # 青色の部分\n",
        "    \n",
        "    # 更新と切り離し、検証データの性能を確認\n",
        "    with torch.no_grad():\n",
        "        losses = list()\n",
        "        for batch in val_loader:\n",
        "            x, t = batch  # 黄色の部分\n",
        "            x = x.to(device)\n",
        "            t = t.to(device)\n",
        "            y = net(x)  # 赤色の部分\n",
        "            #print(f' true = {t}')\n",
        "            #print(f'pred.shape={y.shape} : true.shape = {t.shape}')\n",
        "            #exit()\n",
        "            loss = criterion(y, t)  # 緑色の部分\n",
        "            \n",
        "            losses.append(loss)\n",
        "    val_loss = torch.tensor(losses).mean()\n",
        "    print(\"Epoch: %02d  val_loss: %.3f\" % (epoch+1, val_loss))"
      ]
    },
    {
      "cell_type": "code",
      "execution_count": null,
      "metadata": {
        "colab": {
          "base_uri": "https://localhost:8080/"
        },
        "id": "DEGnbnGknfJ2",
        "outputId": "e898172a-cd3e-4c8a-a5aa-278e065c3437"
      },
      "outputs": [
        {
          "data": {
            "text/plain": [
              "tensor([2, 2, 2,  ..., 2, 3, 2], device='cuda:0')"
            ]
          },
          "execution_count": 89,
          "metadata": {},
          "output_type": "execute_result"
        }
      ],
      "source": [
        "# ====================\n",
        "# 推定したラベルを獲得\n",
        "# ====================\n",
        "\n",
        "with torch.no_grad():\n",
        "    preds = list()\n",
        "    for batch in test_loader:\n",
        "        x, t = batch  # 黄色の部分\n",
        "        x = x.to(device)\n",
        "        t = t.to(device)\n",
        "        y = net(x)  # 赤色の部分\n",
        "        preds.append(y.argmax(axis=1))  # 事例ごとに最高の予測値を持つラベルを選ぶ\n",
        "    preds = torch.concat(preds)\n",
        "\n",
        "preds"
      ]
    },
    {
      "cell_type": "code",
      "execution_count": null,
      "metadata": {
        "id": "yEBPspQmsukd"
      },
      "outputs": [],
      "source": [
        "with open('MLP/1BMLP-.txt','w') as f:\n",
        "    for y_pred in preds:\n",
        "      y_pred = int(y_pred)\n",
        "      y_pred -= 2\n",
        "      y_pred = str(y_pred)\n",
        "      f.write(y_pred + '\\n')"
      ]
    },
    {
      "cell_type": "code",
      "execution_count": null,
      "metadata": {
        "colab": {
          "base_uri": "https://localhost:8080/"
        },
        "id": "YK79ipH-nsAd",
        "outputId": "b82e1781-3a42-497e-f865-1787dcccefd5"
      },
      "outputs": [],
      "source": [
        "from sklearn.metrics import classification_report\n",
        "golds = torch.concat([t for x, t in test_loader])\n",
        "preds = preds.to('cpu')\n",
        "golds = golds.to('cpu')\n",
        "print(classification_report(golds, preds, digits=3))"
      ]
    }
  ],
  "metadata": {
    "accelerator": "GPU",
    "colab": {
      "machine_shape": "hm",
      "provenance": []
    },
    "gpuClass": "premium",
    "kernelspec": {
      "display_name": "py37",
      "language": "python",
      "name": "python3"
    },
    "language_info": {
      "name": "python",
      "version": "3.8.8"
    },
    "vscode": {
      "interpreter": {
        "hash": "0bbcfcc1b2607f9590d16c6d822fed489540cbd3ba0db4dddb602648fbc29ae6"
      }
    }
  },
  "nbformat": 4,
  "nbformat_minor": 0
}
