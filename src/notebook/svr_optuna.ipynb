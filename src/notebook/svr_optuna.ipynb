{
  "cells": [
    {
      "cell_type": "code",
      "execution_count": null,
      "metadata": {
        "colab": {
          "base_uri": "https://localhost:8080/"
        },
        "id": "RNN-3u5BvKIS",
        "outputId": "be066c24-792b-419a-a7a4-487ba086ba21"
      },
      "outputs": [],
      "source": [
        "! pip install optuna"
      ]
    },
    {
      "cell_type": "code",
      "execution_count": null,
      "metadata": {
        "colab": {
          "base_uri": "https://localhost:8080/"
        },
        "id": "9Bkov3bnv_GJ",
        "outputId": "e28dd4ce-e124-4f92-cda7-4d36a35557bd"
      },
      "outputs": [
        {
          "name": "stdout",
          "output_type": "stream",
          "text": [
            "Drive already mounted at /content/drive; to attempt to forcibly remount, call drive.mount(\"/content/drive\", force_remount=True).\n",
            "/content/drive/MyDrive/grad_comp\n"
          ]
        }
      ],
      "source": [
        "#ファイル\n",
        "from google.colab import drive\n",
        "drive.mount('/content/drive')\n",
        "%cd /content/drive/MyDrive/grad_comp"
      ]
    },
    {
      "cell_type": "code",
      "execution_count": null,
      "metadata": {
        "id": "hCh4fVSVv4EB"
      },
      "outputs": [],
      "source": [
        "# ライブラリの導入\n",
        "\n",
        "import numbers\n",
        "import numpy as np\n",
        "import pandas as pd\n",
        "\n",
        "import lightgbm as lgb\n",
        "from sklearn.model_selection import StratifiedKFold\n",
        "from sklearn.metrics import cohen_kappa_score\n",
        "from functools import partial\n",
        "import scipy as sp\n",
        "def adapt_labels(labels):\n",
        "  max_label = np.max(labels) # 2 or 4\n",
        "\n",
        "  if max_label == 2:\n",
        "    labels += 2\n",
        "  elif max_label == 4:\n",
        "    labels -= 2\n",
        "  else:\n",
        "    print('Exception error! please check with np.unique(labels).')\n",
        "  return labels"
      ]
    },
    {
      "cell_type": "code",
      "execution_count": null,
      "metadata": {
        "colab": {
          "base_uri": "https://localhost:8080/"
        },
        "id": "FDag71V7wFwm",
        "outputId": "b172c577-7b3b-4ac1-aed2-355c6e1397ed"
      },
      "outputs": [
        {
          "name": "stdout",
          "output_type": "stream",
          "text": [
            "(32500,) (32500,)\n"
          ]
        }
      ],
      "source": [
        "# data\n",
        "# preprocess path\n",
        "prepro = 'sudachi/A'\n",
        "# n_features = 10000\n",
        "\n",
        "f = open('preprocess/' + prepro + '/text.prep_train.txt', 'r')\n",
        "train_data = f.read()\n",
        "train_data = train_data.split('\\n')\n",
        "del train_data[30000]\n",
        "#x_train = np.zeros((30000, len(res)))\n",
        "\n",
        "f = open('preprocess/' + prepro + '/text.prep_test.txt', 'r')\n",
        "test_data = f.read()\n",
        "test_data = test_data.split('\\n')\n",
        "del test_data[2500]\n",
        "#x_test = np.zeros((2500, len(res)))\n",
        "\n",
        "f = open('preprocess/' + prepro + '/text.prep_dev.txt', 'r')\n",
        "dev_data = f.read()\n",
        "dev_data = dev_data.split('\\n')\n",
        "del dev_data[2500]\n",
        "#x_dev = np.zeros((2500, len(res)))\n",
        "\n",
        "# label\n",
        "y_train = np.loadtxt('/content/drive/MyDrive/grad_comp/data/label.train.txt')\n",
        "y_dev = np.loadtxt('/content/drive/MyDrive/grad_comp/data/label.dev.txt')\n",
        "# pseudo_data\n",
        "\n",
        "pseudo_data = np.loadtxt('/content/drive/MyDrive/grad_comp/pseudo/C5--bipseudo-3e-4-491.txt')\n",
        "train_data = np.concatenate([train_data,test_data])\n",
        "y_train = np.concatenate([y_train, pseudo_data])\n",
        "\n",
        "y_train = adapt_labels(y_train)\n",
        "y_dev = adapt_labels(y_dev)\n",
        "\n",
        "print(train_data.shape,y_train.shape)"
      ]
    },
    {
      "cell_type": "code",
      "execution_count": null,
      "metadata": {
        "id": "mZ4CHzoZwLUs"
      },
      "outputs": [],
      "source": [
        "from sklearn.feature_extraction.text import TfidfVectorizer\n",
        "vectorizer = TfidfVectorizer()\n",
        "x_train = vectorizer.fit_transform(train_data)\n",
        "x_dev = vectorizer.transform(dev_data)\n",
        "x_test = vectorizer.transform(test_data)"
      ]
    },
    {
      "cell_type": "code",
      "execution_count": null,
      "metadata": {
        "id": "oBsGRFKe4oAC"
      },
      "outputs": [],
      "source": [
        "import optuna\n",
        "import pandas as pd\n",
        "\n",
        "def cal_qwk(y_true, y_pred):\n",
        "    return cohen_kappa_score(y_true, y_pred, weights='quadratic')\n",
        "\n",
        "class OptunaRounder:\n",
        "    def __init__(self, y_true, y_pred):\n",
        "        # 真のラベル\n",
        "        self.y_true = y_true\n",
        "        # 予測したラベル\n",
        "        self.y_pred = y_pred\n",
        "        # ラベルの種類\n",
        "        self.labels = np.unique(y_true)\n",
        "\n",
        "    def __call__(self, trial):\n",
        "        # 閾値を Define by run で追加していく\n",
        "        thresholds = []\n",
        "        # ラベルの数 - 1 が必要な閾値の数になる\n",
        "        for i in range(len(self.labels) - 1):\n",
        "            # 閾値の下限 (既存の最大 or ラベルの最小値)\n",
        "            low = max(thresholds) if i > 0 else min(self.labels)\n",
        "            # 閾値の上限 (ラベルの最大値)\n",
        "            high = max(self.labels)\n",
        "            # 閾値の候補を追加する\n",
        "            t = trial.suggest_uniform(f't{i}', low, high)\n",
        "            thresholds.append(t)\n",
        "\n",
        "        # 閾値の候補を元に QWK を計算する\n",
        "        opt_y_pred = self.adjust(self.y_pred, thresholds)\n",
        "        return cal_qwk(self.y_true, opt_y_pred)\n",
        "\n",
        "    def adjust(self, y_pred, thresholds):\n",
        "        opt_y_pred = pd.cut(y_pred,\n",
        "                            [-np.inf] + thresholds + [np.inf],\n",
        "                            labels=self.labels)\n",
        "        return opt_y_pred"
      ]
    },
    {
      "cell_type": "code",
      "execution_count": null,
      "metadata": {
        "colab": {
          "base_uri": "https://localhost:8080/"
        },
        "id": "cGD5NFo24x2D",
        "outputId": "e10a9f9f-f988-4950-8ab4-d90af584dc53"
      },
      "outputs": [
        {
          "name": "stdout",
          "output_type": "stream",
          "text": [
            "QWK = 0.309  C = 0.1\n",
            "QWK = 0.359  C = 0.2\n",
            "QWK = 0.373  C = 0.3\n",
            "QWK = 0.378  C = 0.4\n",
            "QWK = 0.382  C = 0.5\n",
            "QWK = 0.387  C = 0.6\n",
            "QWK = 0.391  C = 0.7\n",
            "QWK = 0.392  C = 0.8\n",
            "QWK = 0.392  C = 0.9\n",
            "QWK = 0.391  C = 1\n",
            "最適なハイパーパラメタは C = 0.9\n"
          ]
        }
      ],
      "source": [
        "from sklearn.metrics import cohen_kappa_score\n",
        "from sklearn.svm import LinearSVR\n",
        "from sklearn.svm import SVR\n",
        "import numpy as np\n",
        "\n",
        "# 最適なハイパーパラメタ C を探索\n",
        "best_qwk = 0\n",
        "best_c = 1\n",
        "for c in [0.1, 0.2, 0.3, 0.4, 0.5, 0.6, 0.7, 0.8, 0.9, 1]:\n",
        "    model = LinearSVR(C=c, random_state=0)\n",
        "    model.fit(x_train,y_train)\n",
        "    y_pred = model.predict(x_dev)\n",
        "    y_pred = np.clip(y_pred, 0, 4).round()\n",
        "    _qwk = cohen_kappa_score(y_pred, y_dev, weights='quadratic')\n",
        "    if _qwk > best_qwk:\n",
        "        best_qwk = _qwk\n",
        "        best_c = c\n",
        "    print(\"QWK = %.3f  C = %s\" % (_qwk, str(c)))\n",
        "print(\"最適なハイパーパラメタは C = %s\" % str(best_c))"
      ]
    },
    {
      "cell_type": "code",
      "execution_count": null,
      "metadata": {
        "id": "r6ME15mm40sU"
      },
      "outputs": [],
      "source": [
        "model = LinearSVR(C=best_c, random_state=0)\n",
        "model.fit(x_train, y_train)\n",
        "y_pred = model.predict(x_dev)\n",
        "y_pred = np.clip(y_pred, 0, 4).round()"
      ]
    },
    {
      "cell_type": "code",
      "execution_count": null,
      "metadata": {
        "colab": {
          "base_uri": "https://localhost:8080/",
          "height": 1000
        },
        "id": "T4WxnFBb42XH",
        "outputId": "b235d65a-702a-4109-c191-102d98eca051"
      },
      "outputs": [],
      "source": [
        "# Optuna を使って QWK の閾値を最適化する\n",
        "objective = OptunaRounder(y_dev, y_pred)\n",
        "\n",
        "study = optuna.create_study(direction='maximize')\n",
        "study.optimize(objective, timeout=200)"
      ]
    },
    {
      "cell_type": "code",
      "execution_count": null,
      "metadata": {
        "colab": {
          "base_uri": "https://localhost:8080/"
        },
        "id": "-980nNmz46Da",
        "outputId": "d888e69b-560b-4fca-f399-e029cf09a1eb"
      },
      "outputs": [
        {
          "name": "stdout",
          "output_type": "stream",
          "text": [
            "[1.4313562776985096, 1.5658335744920155, 2.123602544546043, 2.264890179183845]\n",
            "0.4178975070694815\n"
          ]
        }
      ],
      "source": [
        "best_thresholds = sorted(study.best_params.values())\n",
        "best_score = study.best_value\n",
        "\n",
        "print(best_thresholds)\n",
        "print(best_score)"
      ]
    },
    {
      "cell_type": "code",
      "execution_count": null,
      "metadata": {
        "id": "dYxPDd72822S"
      },
      "outputs": [],
      "source": [
        "model = LinearSVR(C=best_c, random_state=0)\n",
        "model.fit(x_train,y_train)\n",
        "dev_pred = model.predict(x_dev)"
      ]
    },
    {
      "cell_type": "code",
      "execution_count": null,
      "metadata": {
        "colab": {
          "base_uri": "https://localhost:8080/"
        },
        "id": "BgNdYYO69Rja",
        "outputId": "ae51fe1b-4e55-4d55-cb1b-f2dc324ae081"
      },
      "outputs": [],
      "source": [
        "dev_pred_qwk = objective.adjust(dev_pred, best_thresholds)\n",
        "print(dev_pred_qwk)"
      ]
    },
    {
      "cell_type": "code",
      "execution_count": null,
      "metadata": {
        "colab": {
          "base_uri": "https://localhost:8080/"
        },
        "id": "UXIPK4wg9X70",
        "outputId": "3d81d492-81f3-405d-f9b3-4acb9c873cec"
      },
      "outputs": [],
      "source": [
        "# 検証用データに対する評価\n",
        "dev_qwk = cohen_kappa_score(y_dev, dev_pred_qwk, weights='quadratic')\n",
        "print(best_qwk,dev_qwk)"
      ]
    },
    {
      "cell_type": "markdown",
      "metadata": {
        "id": "2_vXrBdN9w66"
      },
      "source": [
        "# 推論"
      ]
    },
    {
      "cell_type": "code",
      "execution_count": null,
      "metadata": {
        "colab": {
          "base_uri": "https://localhost:8080/"
        },
        "id": "hZKjq_i09ycj",
        "outputId": "619c2899-f013-41fc-a01a-0aa10603dd41"
      },
      "outputs": [],
      "source": [
        "prepro_ = prepro[:-2] + prepro[-1]\n",
        "\n",
        "model = LinearSVR(C=best_c, random_state=0)\n",
        "model.fit(x_train,y_train)\n",
        "test_pred = model.predict(x_test)\n",
        "test_pred_qwk = objective.adjust(test_pred, best_thresholds)\n",
        "print(test_pred_qwk)\n",
        "\n",
        "with open('optuna_pse-svr_eval_' + prepro_ + '.txt','w') as f:\n",
        "  for y_pred in test_pred_qwk:\n",
        "    y_pred = int(y_pred)\n",
        "    y_pred -= 2\n",
        "    y_pred = str(y_pred)\n",
        "    f.write(y_pred + '\\n')"
      ]
    }
  ],
  "metadata": {
    "colab": {
      "provenance": []
    },
    "kernelspec": {
      "display_name": "py37",
      "language": "python",
      "name": "python3"
    },
    "language_info": {
      "name": "python",
      "version": "3.8.8"
    },
    "vscode": {
      "interpreter": {
        "hash": "0bbcfcc1b2607f9590d16c6d822fed489540cbd3ba0db4dddb602648fbc29ae6"
      }
    }
  },
  "nbformat": 4,
  "nbformat_minor": 0
}
